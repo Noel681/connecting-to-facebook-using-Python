{
 "cells": [
  {
   "cell_type": "code",
   "execution_count": 1,
   "metadata": {},
   "outputs": [
    {
     "name": "stdout",
     "output_type": "stream",
     "text": [
      "{\n",
      "    \"first_name\": \"Noel\",\n",
      "    \"location\": {\n",
      "        \"id\": \"115200305158163\",\n",
      "        \"name\": \"Hyderabad\"\n",
      "    },\n",
      "    \"link\": \"https://www.facebook.com/app_scoped_user_id/YXNpZADpBWEdzWGpCZAEF6bFcxaUhqc3dTa3l3T1JSZAEJIT19kbHE0bFZARSEpxMWtYX0REajB5MFdpTWxlV29kY3ota2duQjczV1BucmJRX01CTTZAwMXMtaEctTENHV0hyWGExSjVqblVoVHZA2T3dPVXBEY3k3/\",\n",
      "    \"email\": \"noel9595@gmail.com\",\n",
      "    \"id\": \"2442879742467454\"\n",
      "}\n"
     ]
    }
   ],
   "source": [
    "import json\n",
    "import facebook\n",
    "\n",
    "def main():\n",
    "    token = \"EAAFLjUvQxXwBAAdSNhDK8q3G5dnT79ZCaBIZAEce4Vgruthrx7wpVxbw9QqiXL9EBQUX8Dtqh3Aj2wFOksOFrutfh8dYwka9WeLWUKkL5sqTecTtCF8mGviU4VxN82lsGDlrBUsDpHElKRyaobvCUFSXZAXOvc0nDWP9ZAzUQFjNuV7dOrMe7INT4mcmTZAMW6VuIfqUZAgaR2ZCtitmRMVhy3xjYYe4OZCMqZCEZBXj7rogZDZD\"\n",
    "    graph = facebook.GraphAPI(token)\n",
    "    #fields = ['first_name', 'location{location}','email','link']\n",
    "    profile = graph.get_object('me',fields='first_name,location,link,email')\n",
    "    #return desired fields\n",
    "    print(json.dumps(profile, indent=4))\n",
    "\n",
    "if __name__ == '__main__':\n",
    "    main()\n",
    " "
   ]
  },
  {
   "cell_type": "code",
   "execution_count": null,
   "metadata": {},
   "outputs": [],
   "source": [
    "def main():\n",
    "    token = \"EAAFLjUvQxXwBAAdSNhDK8q3G5dnT79ZCaBIZAEce4Vgruthrx7wpVxbw9QqiXL9EBQUX8Dtqh3Aj2wFOksOFrutfh8dYwka9WeLWUKkL5sqTecTtCF8mGviU4VxN82lsGDlrBUsDpHElKRyaobvCUFSXZAXOvc0nDWP9ZAzUQFjNuV7dOrMe7INT4mcmTZAMW6VuIfqUZAgaR2ZCtitmRMVhy3xjYYe4OZCMqZCEZBXj7rogZDZD\"\n",
    "    graph = facebook.GraphAPI(token)\n",
    "    page_name = input(\"Enter a page name: \")\n",
    "    \n",
    "    # list of required fields\n",
    "    fields = ['id','name','about','likes','link','band_members']\n",
    "\n",
    "    fields = ','.join(fields)\n",
    "    \n",
    "    page = graph.get_object(page_name, fields=fields)\n",
    "\n",
    "    print(json.dumps(page,indent=4))\n",
    "\n",
    "if __name__ == '__main__':\n",
    "    main()"
   ]
  }
 ],
 "metadata": {
  "kernelspec": {
   "display_name": "Python 3",
   "language": "python",
   "name": "python3"
  },
  "language_info": {
   "codemirror_mode": {
    "name": "ipython",
    "version": 3
   },
   "file_extension": ".py",
   "mimetype": "text/x-python",
   "name": "python",
   "nbconvert_exporter": "python",
   "pygments_lexer": "ipython3",
   "version": "3.6.8"
  }
 },
 "nbformat": 4,
 "nbformat_minor": 2
}
